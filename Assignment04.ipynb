{
 "cells": [
  {
   "cell_type": "markdown",
   "metadata": {
    "deletable": false,
    "nbgrader": {
     "checksum": "386327638d9e68ea9306834145e870c0",
     "grade": false,
     "grade_id": "in0",
     "locked": true,
     "solution": false
    }
   },
   "source": [
    "<figure>\n",
    "<IMG SRC=\"../../lectures/images/PhysicsLogo.jpg\" WIDTH=100 ALIGN=\"right\">\n",
    "</figure>\n",
    "# [Physics 411](http://jklymak.github.io/Phy411/) Time Series Analysis\n",
    "*Jody Klymak*\n"
   ]
  },
  {
   "cell_type": "markdown",
   "metadata": {
    "deletable": false,
    "nbgrader": {
     "checksum": "2aa7580e96a672d19a3302557343f651",
     "grade": false,
     "grade_id": "q0",
     "locked": true,
     "solution": false
    }
   },
   "source": [
    "# Assignment 4"
   ]
  },
  {
   "cell_type": "markdown",
   "metadata": {
    "deletable": false,
    "nbgrader": {
     "checksum": "5e5264f999919da6eb8730630561f020",
     "grade": false,
     "grade_id": "q1",
     "locked": true,
     "solution": false
    }
   },
   "source": [
    "## Q1:Discrete FFT and Power Spectrum"
   ]
  },
  {
   "cell_type": "code",
   "execution_count": null,
   "metadata": {
    "collapsed": false,
    "deletable": false,
    "nbgrader": {
     "checksum": "ceef30d7c5ed65bd2be5b17f824dca86",
     "grade": false,
     "grade_id": "q1q0",
     "locked": true,
     "points": 1,
     "solution": false
    }
   },
   "outputs": [],
   "source": [
    "import numpy as np\n",
    "import matplotlib.pyplot as plt\n",
    "%matplotlib nbagg\n",
    "\n",
    "hourdata=np.genfromtxt('http://web.uvic.ca/~jklymak/Phy411/Data/AllHourly.txt')[[6,28],2:]\n",
    "dc = hourdata[0,:]\n",
    "jb=hourdata[1,:]"
   ]
  },
  {
   "cell_type": "markdown",
   "metadata": {
    "deletable": false,
    "nbgrader": {
     "checksum": "07da78d1487243d935872dfa27ae0af0",
     "grade": false,
     "grade_id": "",
     "locked": true,
     "points": 1,
     "solution": false
    }
   },
   "source": [
    "**1** Using the data from the hourly time series at Deep Cove (`dc`), show that the canned `fft` routine returns the correct discrete Fourier Transform of a suitable subset of the data (your choice on what subset).  You can do this graphically, by comparing the amplitude and the phase of the Fourier components, or simply show that the resulting numbers are the same.  \n",
    "\n",
    "Some Hints: \n",
    "  - ignore bad data (rather than dealing with it \"properly\").  Make sure the units of your FT are: $\\mathrm{^oC\\, s}$.\n",
    "  - If you want to compute the DFT efficiently, form the matrix $F$ referred to in the notes, and plot some of the time series associated with the different entries and make sure they look like Sines and Cosines and that the edge conditions are what you want.  Alternately, you can use your dft routine from the last assignment, and chose your frequencies properly.\n"
   ]
  },
  {
   "cell_type": "code",
   "execution_count": null,
   "metadata": {
    "collapsed": false,
    "deletable": false,
    "nbgrader": {
     "checksum": "1aaaee5c77000c40941e25da3ce202fb",
     "grade": true,
     "grade_id": "q1a1a",
     "locked": false,
     "points": 1,
     "solution": true
    }
   },
   "outputs": [],
   "source": [
    "# YOUR CODE HERE\n",
    "raise NotImplementedError()"
   ]
  },
  {
   "cell_type": "code",
   "execution_count": null,
   "metadata": {
    "collapsed": false,
    "deletable": false,
    "nbgrader": {
     "checksum": "61e3df37188f1d6e9eba37b3cc3fe25a",
     "grade": true,
     "grade_id": "q1a1b",
     "locked": false,
     "points": 1,
     "solution": true
    }
   },
   "outputs": [],
   "source": [
    "# YOUR CODE HERE\n",
    "raise NotImplementedError()"
   ]
  },
  {
   "cell_type": "markdown",
   "metadata": {
    "deletable": false,
    "nbgrader": {
     "checksum": "dfd905d8f4eea7fb1bb7c91886b9d5a1",
     "grade": true,
     "grade_id": "q1a1c",
     "locked": false,
     "points": 1,
     "solution": true
    }
   },
   "source": [
    "YOUR ANSWER HERE"
   ]
  },
  {
   "cell_type": "code",
   "execution_count": null,
   "metadata": {
    "collapsed": false,
    "deletable": false,
    "nbgrader": {
     "checksum": "0a2065563752430026aa7cb0ebb9fd11",
     "grade": true,
     "grade_id": "q1a1d",
     "locked": false,
     "points": 1,
     "solution": true
    }
   },
   "outputs": [],
   "source": [
    "# YOUR CODE HERE\n",
    "raise NotImplementedError()"
   ]
  },
  {
   "cell_type": "code",
   "execution_count": null,
   "metadata": {
    "collapsed": false,
    "deletable": false,
    "nbgrader": {
     "checksum": "137a2721d4e6439d15ed2715e48b5b09",
     "grade": true,
     "grade_id": "q1a1e",
     "locked": false,
     "points": 1,
     "solution": true
    }
   },
   "outputs": [],
   "source": [
    "# YOUR CODE HERE\n",
    "raise NotImplementedError()"
   ]
  },
  {
   "cell_type": "markdown",
   "metadata": {
    "deletable": false,
    "nbgrader": {
     "checksum": "705cc0959a4eb90e172f5c6390136922",
     "grade": false,
     "grade_id": "q1q2",
     "locked": true,
     "solution": false
    }
   },
   "source": [
    "**2** Now, we can go ahead and use `np.fft.fft`.  Estimate the power spectrum for the Deep Cove time series (again go ahead and skip over gaps, though some of the bigs ones will screw up your frequencies a bit)\n",
    "\n",
    "  - Use *all* the data.  \n",
    "  - Report your results in proper SI units.\n",
    "  - Indicate on your plot at least a couple of important frequencies"
   ]
  },
  {
   "cell_type": "code",
   "execution_count": null,
   "metadata": {
    "collapsed": false,
    "deletable": false,
    "nbgrader": {
     "checksum": "ced6b5a1f0150b1d2d051aecbcb1a1aa",
     "grade": true,
     "grade_id": "q1a2a",
     "locked": false,
     "points": 1,
     "solution": true
    }
   },
   "outputs": [],
   "source": [
    "# YOUR CODE HERE\n",
    "raise NotImplementedError()"
   ]
  },
  {
   "cell_type": "markdown",
   "metadata": {
    "deletable": false,
    "nbgrader": {
     "checksum": "77a209ef3abb1c3b03b4dd108cf8eb76",
     "grade": true,
     "grade_id": "q1a2b",
     "locked": false,
     "points": 1,
     "solution": true
    }
   },
   "source": [
    "YOUR ANSWER HERE"
   ]
  },
  {
   "cell_type": "markdown",
   "metadata": {
    "deletable": false,
    "nbgrader": {
     "checksum": "6344f1d3399a2b54251462564d627985",
     "grade": false,
     "grade_id": "q1q3",
     "locked": true,
     "solution": false
    }
   },
   "source": [
    "**3** Demonstrate Parceval's Theorem applies to your spectral estimate.  i.e. show that \n",
    "\n",
    "\\begin{equation}\n",
    "  \\sigma_x^2=\\int_0^{\\infty} G_{xx}(f)\\ \\mathrm{d}f\n",
    "\\end{equation}\n",
    "\n",
    "applies to your estimate of $G_{xx}(f)$."
   ]
  },
  {
   "cell_type": "code",
   "execution_count": null,
   "metadata": {
    "collapsed": false,
    "deletable": false,
    "nbgrader": {
     "checksum": "e0d94acdbf61153e1dfbc4ee73493dea",
     "grade": true,
     "grade_id": "q1a3",
     "locked": false,
     "points": 1,
     "solution": true
    }
   },
   "outputs": [],
   "source": [
    "# YOUR CODE HERE\n",
    "raise NotImplementedError()"
   ]
  },
  {
   "cell_type": "markdown",
   "metadata": {
    "deletable": false,
    "nbgrader": {
     "checksum": "7c6b2a0432e00c600e7462537c3f6c17",
     "grade": false,
     "grade_id": "q2",
     "locked": true,
     "solution": false
    }
   },
   "source": [
    "## Q2: Emperically derive distribution of spectral estimate"
   ]
  },
  {
   "cell_type": "markdown",
   "metadata": {
    "deletable": false,
    "nbgrader": {
     "checksum": "7777bedab31c6c0ffe8ef4dfd2925c07",
     "grade": false,
     "grade_id": "q2q1",
     "locked": true,
     "solution": false
    }
   },
   "source": [
    "**1** Write a short function to create a \"red\" time series by taking the cumulative sum of Normally distributed random data, and plot one realization.  The number of data points $N$ can be relatively small (say 1000)."
   ]
  },
  {
   "cell_type": "code",
   "execution_count": null,
   "metadata": {
    "collapsed": false,
    "deletable": false,
    "nbgrader": {
     "checksum": "c6a9825573be3dba69286b16947ac673",
     "grade": true,
     "grade_id": "q2a1",
     "locked": false,
     "points": 1,
     "solution": true
    }
   },
   "outputs": [],
   "source": [
    "# YOUR CODE HERE\n",
    "raise NotImplementedError()"
   ]
  },
  {
   "cell_type": "markdown",
   "metadata": {
    "deletable": false,
    "nbgrader": {
     "checksum": "73c0fdfcdf17c0f1589121f2ab974feb",
     "grade": false,
     "grade_id": "q2q2",
     "locked": true,
     "solution": false
    }
   },
   "source": [
    "**2** Write a second function to return the estimate of the power spectrum of $x$.  For posterity sake, include a value of the sampling frequency, and return the proper frequencies for the estimate.  Plot the resulting spectrum."
   ]
  },
  {
   "cell_type": "code",
   "execution_count": null,
   "metadata": {
    "collapsed": false,
    "deletable": false,
    "nbgrader": {
     "checksum": "c22b4cf3a14711407c8b0cd71cf9c266",
     "grade": true,
     "grade_id": "q2a2",
     "locked": false,
     "points": 1,
     "solution": true
    }
   },
   "outputs": [],
   "source": [
    "# YOUR CODE HERE\n",
    "raise NotImplementedError()"
   ]
  },
  {
   "cell_type": "markdown",
   "metadata": {
    "deletable": false,
    "nbgrader": {
     "checksum": "9f36d60be3a686841c74d990117f40ae",
     "grade": false,
     "grade_id": "q2q3",
     "locked": true,
     "points": 1,
     "solution": false
    }
   },
   "source": [
    "**3** Now do the Monte-Carlo, by running the above 100 times and plotting the resulting spectral estimates as dots on the same plot. As you are making your data, save it into an array.  I did something like:\n",
    "```python\n",
    "    Gxs = zeros((1000,501))\n",
    "    # inside my loop:\n",
    "        Gxs[ind,:]=Gxx   \n",
    "```"
   ]
  },
  {
   "cell_type": "code",
   "execution_count": null,
   "metadata": {
    "collapsed": false,
    "deletable": false,
    "nbgrader": {
     "checksum": "5931c54d5270fc7b3b602114c330bb38",
     "grade": true,
     "grade_id": "q2a3",
     "locked": false,
     "points": 1,
     "solution": true
    },
    "scrolled": false
   },
   "outputs": [],
   "source": [
    "# YOUR CODE HERE\n",
    "raise NotImplementedError()"
   ]
  },
  {
   "cell_type": "markdown",
   "metadata": {
    "deletable": false,
    "nbgrader": {
     "checksum": "23dae237503e8b082d8908cd25e04ff3",
     "grade": false,
     "grade_id": "q2q4",
     "locked": true,
     "solution": false
    }
   },
   "source": [
    "**4** Now, on the same plot, add the mean of all your $G_{xx}(f)$ estimates (as a function of $f$), and the upper and lower bounds encompasing 95% of the data. (Hint, sort each column of your matrix - `np.sort` - and plot the value at $0.025 N$ and $0.975 N$).\n"
   ]
  },
  {
   "cell_type": "code",
   "execution_count": null,
   "metadata": {
    "collapsed": false,
    "deletable": false,
    "nbgrader": {
     "checksum": "caa7d9732f55227f7944754acc4d6aea",
     "grade": true,
     "grade_id": "q2a4",
     "locked": false,
     "points": 1,
     "solution": true
    }
   },
   "outputs": [],
   "source": [
    "# YOUR CODE HERE\n",
    "raise NotImplementedError()"
   ]
  },
  {
   "cell_type": "markdown",
   "metadata": {
    "deletable": false,
    "nbgrader": {
     "checksum": "bca8e18eae835190023c660ac630f0b9",
     "grade": true,
     "grade_id": "q2a4b",
     "locked": false,
     "points": 1,
     "solution": true
    }
   },
   "source": [
    "YOUR ANSWER HERE"
   ]
  },
  {
   "cell_type": "markdown",
   "metadata": {
    "deletable": false,
    "nbgrader": {
     "checksum": "ab778dff94a7484f5dcc4811b1ef7fcc",
     "grade": false,
     "grade_id": "q2q5",
     "locked": true,
     "solution": false
    }
   },
   "source": [
    "**5** Show that the ratio of the lower and upper bounds of your spectral estimates spread compares favourably with the ratio between the lower and upper 95% confidence bounds of the  $\\chi^2_2$ distribution.  Comment on any difference."
   ]
  },
  {
   "cell_type": "code",
   "execution_count": null,
   "metadata": {
    "collapsed": false,
    "deletable": false,
    "nbgrader": {
     "checksum": "e6880056b877bbdf358e4195c8ac50fc",
     "grade": true,
     "grade_id": "q2a5",
     "locked": false,
     "points": 1,
     "solution": true
    }
   },
   "outputs": [],
   "source": [
    "# YOUR CODE HERE\n",
    "raise NotImplementedError()"
   ]
  },
  {
   "cell_type": "markdown",
   "metadata": {
    "deletable": false,
    "nbgrader": {
     "checksum": "bee4e6ba251f377d8810ea71981ad559",
     "grade": true,
     "grade_id": "q2a5a",
     "locked": false,
     "points": 1,
     "solution": true
    }
   },
   "source": [
    "YOUR ANSWER HERE"
   ]
  },
  {
   "cell_type": "code",
   "execution_count": null,
   "metadata": {
    "collapsed": false
   },
   "outputs": [],
   "source": []
  }
 ],
 "metadata": {
  "kernelspec": {
   "display_name": "Python 2",
   "language": "python",
   "name": "python2"
  },
  "language_info": {
   "codemirror_mode": {
    "name": "ipython",
    "version": 2
   },
   "file_extension": ".py",
   "mimetype": "text/x-python",
   "name": "python",
   "nbconvert_exporter": "python",
   "pygments_lexer": "ipython2",
   "version": "2.7.10"
  }
 },
 "nbformat": 4,
 "nbformat_minor": 0
}